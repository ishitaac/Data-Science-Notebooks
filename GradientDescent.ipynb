{
  "nbformat": 4,
  "nbformat_minor": 0,
  "metadata": {
    "colab": {
      "name": "GradientDescent.ipynb",
      "provenance": [],
      "collapsed_sections": [],
      "authorship_tag": "ABX9TyNJjnxIOra9MKVAby3iFMFE",
      "include_colab_link": true
    },
    "kernelspec": {
      "name": "python3",
      "display_name": "Python 3"
    },
    "language_info": {
      "name": "python"
    }
  },
  "cells": [
    {
      "cell_type": "markdown",
      "metadata": {
        "id": "view-in-github",
        "colab_type": "text"
      },
      "source": [
        "<a href=\"https://colab.research.google.com/github/ishitaac/Data-Science-Notebooks/blob/main/GradientDescent.ipynb\" target=\"_parent\"><img src=\"https://colab.research.google.com/assets/colab-badge.svg\" alt=\"Open In Colab\"/></a>"
      ]
    },
    {
      "cell_type": "code",
      "execution_count": 1,
      "metadata": {
        "id": "VOXyuUjKdpks"
      },
      "outputs": [],
      "source": [
        "import numpy as np"
      ]
    },
    {
      "cell_type": "code",
      "source": [
        "data  = np.loadtxt(\"data.csv\", delimiter =\",\")\n",
        "data.shape"
      ],
      "metadata": {
        "colab": {
          "base_uri": "https://localhost:8080/"
        },
        "id": "yuEArATfdyHz",
        "outputId": "5d5dfc9b-e5d1-4613-db2b-bc37e2834943"
      },
      "execution_count": 4,
      "outputs": [
        {
          "output_type": "execute_result",
          "data": {
            "text/plain": [
              "(100, 2)"
            ]
          },
          "metadata": {},
          "execution_count": 4
        }
      ]
    },
    {
      "cell_type": "code",
      "source": [
        "def step_gradient(data_points, learning_rate,m,c):\n",
        "  m_slope = 0\n",
        "  c_slope = 0\n",
        "  M= len(data_points)\n",
        "  for i in range (M):\n",
        "    x= data_points[i,0]\n",
        "    y= data_points[i,1]\n",
        "    m_slope += (-2/M)*(y-m*x-c)*x\n",
        "    c_slope += (-2/M)*(y-m*x-c)\n",
        "  new_m = m - learning_rate * m_slope\n",
        "  new_c = c - learning_rate * c_slope\n",
        "  return new_m, new_c\n"
      ],
      "metadata": {
        "id": "gvAmKePsga_r"
      },
      "execution_count": 13,
      "outputs": []
    },
    {
      "cell_type": "code",
      "source": [
        "def gd(data_points, learning_rate, num_iterations):\n",
        "  m=0\n",
        "  c=0\n",
        "  for i in range (num_iterations):\n",
        "    m,c = step_gradient(data_points, learning_rate,m,c)\n",
        "    print(i, \"Cost function: \", cost(data_points,m,c))\n",
        "  return m,c\n",
        " \n"
      ],
      "metadata": {
        "id": "ZlcxiOe1fWbN"
      },
      "execution_count": 15,
      "outputs": []
    },
    {
      "cell_type": "code",
      "source": [
        "def cost(data_points,m,c):\n",
        "  total_cost =0\n",
        "  M= len(data_points)\n",
        "  for i in range (M):\n",
        "    x = data_points[i,0]\n",
        "    y= data_points[i,1]\n",
        "    total_cost += (1/M)*((y-m*x-c)**2)\n",
        "  return total_cost"
      ],
      "metadata": {
        "id": "L5Av4s_Rkefu"
      },
      "execution_count": 16,
      "outputs": []
    },
    {
      "cell_type": "code",
      "source": [
        "def run():\n",
        "  data = data  = np.loadtxt(\"data.csv\", delimiter =\",\")\n",
        "  learning_rate = 0.0001\n",
        "  num_iterations = 50\n",
        "  m,c = gd(data, learning_rate, num_iterations)\n",
        "  print(m,c)"
      ],
      "metadata": {
        "id": "V66vhViDe8Cm"
      },
      "execution_count": 23,
      "outputs": []
    },
    {
      "cell_type": "code",
      "source": [
        "run()"
      ],
      "metadata": {
        "colab": {
          "base_uri": "https://localhost:8080/"
        },
        "id": "i-77Ysd3kJkR",
        "outputId": "941f4b60-59f0-4b2a-d404-9e5748a37da6"
      },
      "execution_count": 24,
      "outputs": [
        {
          "output_type": "stream",
          "name": "stdout",
          "text": [
            "0 Cost function:  1484.5865574086486\n",
            "1 Cost function:  457.8542575737672\n",
            "2 Cost function:  199.5099857255389\n",
            "3 Cost function:  134.50591058200533\n",
            "4 Cost function:  118.1496934223995\n",
            "5 Cost function:  114.0341490603815\n",
            "6 Cost function:  112.99857731713657\n",
            "7 Cost function:  112.73798187568467\n",
            "8 Cost function:  112.6723843590911\n",
            "9 Cost function:  112.65585181499745\n",
            "10 Cost function:  112.65166489759581\n",
            "11 Cost function:  112.6505843615011\n",
            "12 Cost function:  112.65028544701502\n",
            "13 Cost function:  112.65018320293967\n",
            "14 Cost function:  112.650130445072\n",
            "15 Cost function:  112.65009013922885\n",
            "16 Cost function:  112.6500529669463\n",
            "17 Cost function:  112.65001658353178\n",
            "18 Cost function:  112.64998039901865\n",
            "19 Cost function:  112.64994426496071\n",
            "20 Cost function:  112.64990814400622\n",
            "21 Cost function:  112.64987202675677\n",
            "22 Cost function:  112.64983591084761\n",
            "23 Cost function:  112.64979979568368\n",
            "24 Cost function:  112.64976368111523\n",
            "25 Cost function:  112.64972756710469\n",
            "26 Cost function:  112.64969145364236\n",
            "27 Cost function:  112.64965534072611\n",
            "28 Cost function:  112.64961922835512\n",
            "29 Cost function:  112.64958311652944\n",
            "30 Cost function:  112.64954700524868\n",
            "31 Cost function:  112.64951089451318\n",
            "32 Cost function:  112.64947478432279\n",
            "33 Cost function:  112.64943867467744\n",
            "34 Cost function:  112.64940256557728\n",
            "35 Cost function:  112.64936645702221\n",
            "36 Cost function:  112.64933034901203\n",
            "37 Cost function:  112.64929424154704\n",
            "38 Cost function:  112.64925813462712\n",
            "39 Cost function:  112.6492220282522\n",
            "40 Cost function:  112.64918592242235\n",
            "41 Cost function:  112.64914981713754\n",
            "42 Cost function:  112.64911371239779\n",
            "43 Cost function:  112.64907760820296\n",
            "44 Cost function:  112.64904150455324\n",
            "45 Cost function:  112.64900540144845\n",
            "46 Cost function:  112.64896929888867\n",
            "47 Cost function:  112.64893319687388\n",
            "48 Cost function:  112.6488970954041\n",
            "49 Cost function:  112.64886099447922\n",
            "1.478861741559523 0.03207192079925884\n"
          ]
        }
      ]
    },
    {
      "cell_type": "code",
      "source": [
        ""
      ],
      "metadata": {
        "id": "tem-KWwVkKyQ"
      },
      "execution_count": null,
      "outputs": []
    }
  ]
}